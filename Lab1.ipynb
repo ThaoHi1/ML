{
  "nbformat": 4,
  "nbformat_minor": 0,
  "metadata": {
    "colab": {
      "provenance": [],
      "toc_visible": true,
      "authorship_tag": "ABX9TyNIO7+Aa7bBmEwHW74sKNjw",
      "include_colab_link": true
    },
    "kernelspec": {
      "name": "python3",
      "display_name": "Python 3"
    },
    "language_info": {
      "name": "python"
    }
  },
  "cells": [
    {
      "cell_type": "markdown",
      "metadata": {
        "id": "view-in-github",
        "colab_type": "text"
      },
      "source": [
        "<a href=\"https://colab.research.google.com/github/ThaoHi1/ML/blob/main/Lab1.ipynb\" target=\"_parent\"><img src=\"https://colab.research.google.com/assets/colab-badge.svg\" alt=\"Open In Colab\"/></a>"
      ]
    },
    {
      "cell_type": "markdown",
      "source": [
        "# TASK 1.1:"
      ],
      "metadata": {
        "id": "hfXZH6jt3pGD"
      }
    },
    {
      "cell_type": "code",
      "execution_count": null,
      "metadata": {
        "colab": {
          "base_uri": "https://localhost:8080/"
        },
        "id": "aIG0TOzguhiq",
        "outputId": "7ea2fe8c-4a3d-409a-ad1d-da30a49cf4ab"
      },
      "outputs": [
        {
          "output_type": "stream",
          "name": "stdout",
          "text": [
            "Enter n:5\n",
            "5\n",
            "Enter i Of List:5\n",
            "4\n",
            "Enter i Of List:-1\n",
            "3\n",
            "Enter i Of List:0\n",
            "2\n",
            "Enter i Of List:4\n",
            "1\n",
            "Enter i Of List:5\n",
            "0\n",
            "[5, -1, 0, 4, 5]\n",
            "Max: 5\n",
            "Min: -1\n",
            "Sum: 13\n",
            "[-1, 0, 4, 5, 5]\n",
            "Positive: 3\n",
            "Negative: 1\n"
          ]
        }
      ],
      "source": [
        "n=int(input (\"Enter n:\"))\n",
        "print(n)\n",
        "listHere=[]\n",
        "while n>0:\n",
        "  i=int (input(\"Enter i Of List:\"))\n",
        "  listHere.append(i)\n",
        "  n-=1\n",
        "  print(n)\n",
        "print(listHere)\n",
        "print(\"Max:\",max(listHere))\n",
        "print(\"Min:\",min(listHere))\n",
        "print(\"Sum:\",sum(listHere))\n",
        "listHere.sort()\n",
        "print(listHere)\n",
        "negative=0\n",
        "positive=0\n",
        "for x in listHere:\n",
        "  if x>0:\n",
        "    positive+=1\n",
        "  elif x<0:\n",
        "    negative+=1\n",
        "print(\"Positive:\",positive)\n",
        "print(\"Negative:\",negative)\n",
        "\n"
      ]
    },
    {
      "cell_type": "markdown",
      "source": [
        "# TASK 1.2\n"
      ],
      "metadata": {
        "id": "HUANBZLj3eDO"
      }
    },
    {
      "cell_type": "code",
      "source": [
        "\n",
        "n=int(input(\"enter n:\"))\n",
        "if n<=0:\n",
        "  n=int(input(\"enter n>0:\"))\n",
        "if n>0:\n",
        "  s=0\n",
        "  while n>0:\n",
        "    a=1\n",
        "    for x in range(1,n+1):\n",
        "      a*=x\n",
        "    n-=1\n",
        "    s+=a\n",
        "  print(\"S=\",s)"
      ],
      "metadata": {
        "id": "sDZE7qW-3cWY",
        "colab": {
          "base_uri": "https://localhost:8080/"
        },
        "outputId": "897d56bc-e09c-4899-d92e-c3ce963bf9be"
      },
      "execution_count": null,
      "outputs": [
        {
          "output_type": "stream",
          "name": "stdout",
          "text": [
            "enter n:0\n",
            "enter n>0:1\n",
            "S= 1\n"
          ]
        }
      ]
    },
    {
      "cell_type": "markdown",
      "source": [
        "# TASK 1.3\n"
      ],
      "metadata": {
        "id": "9xSpgPTx-Hba"
      }
    },
    {
      "cell_type": "code",
      "source": [],
      "metadata": {
        "id": "Rx8E2bH6-SEh"
      },
      "execution_count": null,
      "outputs": []
    }
  ]
}